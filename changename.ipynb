{
 "cells": [
  {
   "cell_type": "code",
   "execution_count": 1,
   "metadata": {},
   "outputs": [],
   "source": [
    "import os"
   ]
  },
  {
   "cell_type": "code",
   "execution_count": 19,
   "metadata": {},
   "outputs": [],
   "source": [
    "import os\n",
    "\n",
    "folder_path = '/Users/cqn/work/zero-shot/muSpeaker/assets/audio/for_demo/wav_gen'  \n",
    "\n",
    "for filename in os.listdir(folder_path):\n",
    "    if filename.startswith('s14'):\n",
    "        new_filename = 's01' + filename[3:]\n",
    "        os.rename(os.path.join(folder_path, filename), os.path.join(folder_path, new_filename))"
   ]
  },
  {
   "cell_type": "code",
   "execution_count": 31,
   "metadata": {},
   "outputs": [],
   "source": [
    "lists=sorted(os.listdir(folder_path))\n",
    "for filename in lists:\n",
    "    if len(filename.split('.')[0].split('_'))<3: continue \n",
    "    spk,utt,model=filename.split('.')[0].split('_')\n",
    "    if utt!='u00' and utt!='u01':\n",
    "        if os.path.exists(os.path.join(folder_path,filename.replace(utt,'u00'))):\n",
    "            new_filename=filename.replace(utt,'u01')\n",
    "        else:\n",
    "            new_filename=filename.replace(utt,'u00')\n",
    "        os.rename(os.path.join(folder_path, filename), os.path.join(folder_path, new_filename))"
   ]
  },
  {
   "cell_type": "code",
   "execution_count": 2,
   "metadata": {},
   "outputs": [],
   "source": [
    "import librosa\n",
    "import os\n",
    "import torchaudio\n",
    "\n",
    "# Set the target sample rate\n",
    "target_sample_rate = 22050\n",
    "\n",
    "folder_path='/Users/cqn/work/zero-shot/muSpeaker/assets/audio/for_demo/wav_gen'  \n",
    "folder_path='/Users/cqn/work/zero-shot/muSpeaker/assets/audio/for_demo/wav_ref'  \n",
    "\n",
    "\n",
    "# Iterate over the audio files in the folder\n",
    "for filename in os.listdir(folder_path):\n",
    "    if filename.endswith('.wav'):\n",
    "        # Load the audio file\n",
    "        audio_path=os.path.join(folder_path,filename)\n",
    "        waveform, sample_rate = torchaudio.load(audio_path)\n",
    "\n",
    "        # Resample the audio to the target sample rate\n",
    "        resampled_waveform = torchaudio.transforms.Resample(sample_rate, target_sample_rate)(waveform)\n",
    "\n",
    "        # Save the resampled audio back to the same file\n",
    "        torchaudio.save(audio_path, resampled_waveform, target_sample_rate)"
   ]
  },
  {
   "cell_type": "code",
   "execution_count": null,
   "metadata": {},
   "outputs": [],
   "source": []
  }
 ],
 "metadata": {
  "kernelspec": {
   "display_name": "base10",
   "language": "python",
   "name": "python3"
  },
  "language_info": {
   "codemirror_mode": {
    "name": "ipython",
    "version": 3
   },
   "file_extension": ".py",
   "mimetype": "text/x-python",
   "name": "python",
   "nbconvert_exporter": "python",
   "pygments_lexer": "ipython3",
   "version": "3.10.13"
  }
 },
 "nbformat": 4,
 "nbformat_minor": 2
}
